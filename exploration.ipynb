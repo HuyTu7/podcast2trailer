{
 "cells": [
  {
   "cell_type": "code",
   "execution_count": 1,
   "metadata": {},
   "outputs": [],
   "source": [
    "import matplotlib.pyplot as plt\n",
    "\n",
    "from data_preprocessing import *\n",
    "from main import pagerank_summarizer, lda_summarizer, MYPATH"
   ]
  },
  {
   "cell_type": "code",
   "execution_count": 2,
   "metadata": {},
   "outputs": [],
   "source": [
    "word_embeddings = load_word_embeddings()\n",
    "examples = read_data(MYPATH)"
   ]
  },
  {
   "cell_type": "code",
   "execution_count": 3,
   "metadata": {},
   "outputs": [
    {
     "name": "stdout",
     "output_type": "stream",
     "text": [
      "this-american-life_getting-out\n",
      "npr-politics_school-mask-ban\n",
      "conan-obrien_cecily-strong\n",
      "99-invisible_matters-of-time\n",
      "npr-politics_cutting-unemployment\n",
      "radiolab_dark-side-of-the-earth\n",
      "masters-of-scale_build-the-right-flywheel\n",
      "my-first-million_the-secret-to-being-great\n",
      "the-internet-says-its-true_hollywood\n",
      "npr-politics_august-27th\n",
      "a16z_developers-as-creatives\n",
      "the-internet-says-its-true_hidden-village\n",
      "this-american-life_essential\n",
      "conan-obrien_joel-mchale\n",
      "my-first-million_how-to-build-a-community\n",
      "99-invisible_stuff-the-british-stole\n",
      "masters-of-scale_make-it-epic\n",
      "radiolab_dinopocalypse-redux\n",
      "a16z_malaria-vaccine\n",
      "a16z_crypto\n",
      "masters-of-scale_master-your-emotions\n"
     ]
    }
   ],
   "source": [
    "summaries = {}\n",
    "for fname, transcription in examples.items():\n",
    "    print(fname)\n",
    "    summaries[fname] = pagerank_summarize(word_embeddings, transcription)"
   ]
  },
  {
   "cell_type": "code",
   "execution_count": 4,
   "metadata": {},
   "outputs": [],
   "source": [
    "text_count = [len(t.split()) for t in examples.values()]\n",
    "summary_count = [len(s.split()) for s in summaries.values()]"
   ]
  },
  {
   "cell_type": "code",
   "execution_count": 14,
   "metadata": {},
   "outputs": [
    {
     "data": {
      "image/png": "[encoded data removed]",
      "text/plain": [
       "<Figure size 1152x288 with 2 Axes>"
      ]
     },
     "metadata": {
      "needs_background": "light"
     },
     "output_type": "display_data"
    }
   ],
   "source": [
    "pd.DataFrame({'text': text_count, 'summaries': summary_count}).hist(bins=21, figsize=(16, 4))\n",
    "plt.show()"
   ]
  },
  {
   "cell_type": "code",
   "execution_count": 15,
   "metadata": {},
   "outputs": [],
   "source": [
    "with open(\"results/summaries_pagerank.json\", \"w\") as outfile:\n",
    "    json.dump(summaries, outfile)"
   ]
  },
  {
   "cell_type": "code",
   "execution_count": 3,
   "metadata": {},
   "outputs": [
    {
     "name": "stdout",
     "output_type": "stream",
     "text": [
      "this-american-life_getting-out\n",
      "npr-politics_school-mask-ban\n",
      "conan-obrien_cecily-strong\n",
      "99-invisible_matters-of-time\n",
      "npr-politics_cutting-unemployment\n",
      "radiolab_dark-side-of-the-earth\n",
      "masters-of-scale_build-the-right-flywheel\n",
      "my-first-million_the-secret-to-being-great\n",
      "the-internet-says-its-true_hollywood\n",
      "npr-politics_august-27th\n",
      "a16z_developers-as-creatives\n",
      "the-internet-says-its-true_hidden-village\n",
      "this-american-life_essential\n",
      "conan-obrien_joel-mchale\n",
      "my-first-million_how-to-build-a-community\n",
      "99-invisible_stuff-the-british-stole\n",
      "masters-of-scale_make-it-epic\n",
      "radiolab_dinopocalypse-redux\n",
      "a16z_malaria-vaccine\n",
      "a16z_crypto\n",
      "masters-of-scale_master-your-emotions\n"
     ]
    }
   ],
   "source": [
    "summaries = {}\n",
    "for fname, transcription in examples.items():\n",
    "    print(fname)\n",
    "    summaries[fname] = lda_summarizer(transcription)"
   ]
  },
  {
   "cell_type": "code",
   "execution_count": 7,
   "metadata": {},
   "outputs": [],
   "source": [
    "text_count = [len(t.split()) for t in examples.values()]\n",
    "summary_count = [len(s.split()) for s in summaries.values()]"
   ]
  },
  {
   "cell_type": "code",
   "execution_count": 8,
   "metadata": {},
   "outputs": [
    {
     "data": {
      "image/png": "[encoded data removed]",
      "text/plain": [
       "<Figure size 1152x288 with 2 Axes>"
      ]
     },
     "metadata": {
      "needs_background": "light"
     },
     "output_type": "display_data"
    }
   ],
   "source": [
    "pd.DataFrame({'text': text_count, 'summaries': summary_count}).hist(bins=21, figsize=(16, 4))\n",
    "plt.show()"
   ]
  },
  {
   "cell_type": "code",
   "execution_count": 9,
   "metadata": {},
   "outputs": [],
   "source": [
    "with open(\"results/summaries_lda.json\", \"w\") as outfile:\n",
    "    json.dump(summaries, outfile)"
   ]
  },
  {
   "cell_type": "code",
   "execution_count": null,
   "metadata": {},
   "outputs": [],
   "source": []
  }
 ],
 "metadata": {
  "kernelspec": {
   "display_name": "Python 3",
   "language": "python",
   "name": "python3"
  },
  "language_info": {
   "codemirror_mode": {
    "name": "ipython",
    "version": 3
   },
   "file_extension": ".py",
   "mimetype": "text/x-python",
   "name": "python",
   "nbconvert_exporter": "python",
   "pygments_lexer": "ipython3",
   "version": "3.7.6"
  }
 },
 "nbformat": 4,
 "nbformat_minor": 2
}
